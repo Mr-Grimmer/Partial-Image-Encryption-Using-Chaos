{
 "cells": [
  {
   "cell_type": "code",
   "execution_count": 7,
   "id": "373b396a",
   "metadata": {},
   "outputs": [
    {
     "ename": "AttributeError",
     "evalue": "module 'cv2' has no attribute 'core2'",
     "output_type": "error",
     "traceback": [
      "\u001b[0;31m---------------------------------------------------------------------------\u001b[0m",
      "\u001b[0;31mAttributeError\u001b[0m                            Traceback (most recent call last)",
      "Cell \u001b[0;32mIn[7], line 9\u001b[0m\n\u001b[1;32m      6\u001b[0m img \u001b[38;5;241m=\u001b[39m cv2\u001b[38;5;241m.\u001b[39mimread(\u001b[38;5;124m'\u001b[39m\u001b[38;5;124mImages/Lena/Lena.tiff\u001b[39m\u001b[38;5;124m'\u001b[39m,\u001b[38;5;241m0\u001b[39m)\n\u001b[1;32m      7\u001b[0m cipher\u001b[38;5;241m=\u001b[39m cv2\u001b[38;5;241m.\u001b[39mimread(\u001b[38;5;124m'\u001b[39m\u001b[38;5;124mImages/Lena/cipher.tiff\u001b[39m\u001b[38;5;124m'\u001b[39m,\u001b[38;5;241m0\u001b[39m)\n\u001b[0;32m----> 9\u001b[0m cor \u001b[38;5;241m=\u001b[39m \u001b[43mcv2\u001b[49m\u001b[38;5;241;43m.\u001b[39;49m\u001b[43mcore2\u001b[49m(img,cipher)\n",
      "\u001b[0;31mAttributeError\u001b[0m: module 'cv2' has no attribute 'core2'"
     ]
    }
   ],
   "source": [
    "from scipy import signal\n",
    "import cv2\n",
    "import matplotlib.pyplot as plt\n",
    "import matplotlib.image as mpimg\n",
    "\n",
    "img = cv2.imread('Images/Lena/Lena.tiff',0)\n",
    "cipher= cv2.imread('Images/Lena/cipher.tiff',0)\n",
    "\n",
    "cor = cv2.core2(img,cipher)"
   ]
  },
  {
   "cell_type": "code",
   "execution_count": 5,
   "id": "ea05ce97",
   "metadata": {},
   "outputs": [
    {
     "name": "stdout",
     "output_type": "stream",
     "text": [
      "[[ 99 220 215 ...  92 180 224]\n",
      " [ 66  82  93 ...  12  17 156]\n",
      " [238 103 120 ...  75  80 197]\n",
      " ...\n",
      " [ 17 213  60 ... 107 217  90]\n",
      " [201  68 213 ... 228 227  87]\n",
      " [ 34  89  34 ... 175 158 129]]\n"
     ]
    }
   ],
   "source": [
    "print(cor)"
   ]
  },
  {
   "cell_type": "code",
   "execution_count": null,
   "id": "d564745a",
   "metadata": {},
   "outputs": [],
   "source": []
  }
 ],
 "metadata": {
  "kernelspec": {
   "display_name": "Python 3 (ipykernel)",
   "language": "python",
   "name": "python3"
  },
  "language_info": {
   "codemirror_mode": {
    "name": "ipython",
    "version": 3
   },
   "file_extension": ".py",
   "mimetype": "text/x-python",
   "name": "python",
   "nbconvert_exporter": "python",
   "pygments_lexer": "ipython3",
   "version": "3.10.9"
  }
 },
 "nbformat": 4,
 "nbformat_minor": 5
}
